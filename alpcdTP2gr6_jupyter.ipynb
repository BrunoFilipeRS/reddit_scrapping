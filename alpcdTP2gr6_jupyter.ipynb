{
 "cells": [
  {
   "cell_type": "code",
   "execution_count": 58,
   "metadata": {},
   "outputs": [
    {
     "name": "stdout",
     "output_type": "stream",
     "text": [
      "25\n"
     ]
    },
    {
     "data": {
      "text/plain": [
       "False"
      ]
     },
     "execution_count": 58,
     "metadata": {},
     "output_type": "execute_result"
    }
   ],
   "source": [
    "from bs4 import BeautifulSoup\n",
    "import requests as r\n",
    "import typer\n",
    "import re\n",
    "import base64\n",
    "\n",
    "def decode_post_id(post_id):\n",
    "    # Strip the 't3_' prefix and decode the base36 numerical part\n",
    "    return int(post_id.split('_')[1], 36)\n",
    "\n",
    "def encode_after_parameter(internal_id):\n",
    "    # Encode the internal ID to base64 and URL-encode the result\n",
    "    encoded_string = base64.b64encode(str(internal_id).encode('utf-8')).decode('utf-8')\n",
    "    url_encoded_string = encoded_string.replace('+', '%2B').replace('/', '%2F').replace('=', '%3D')\n",
    "    return url_encoded_string\n",
    "\n",
    "\n",
    "navigationSessionId = 'f73913c4-49e2-4c17-b5c4-49d9ed72f972'\n",
    "distance = 5\n",
    "\n",
    "url = 'https://www.reddit.com/svc/shreddit/feeds/popular-feed'\n",
    "\n",
    "params = {'navigationSessionId':navigationSessionId}\n",
    "\n",
    "response = r.get(url,params=params)\n",
    "\n",
    "soup = BeautifulSoup(response.text,'lxml')\n",
    "\n",
    "post = soup.find('shreddit-post')\n",
    "post\n",
    "first_post_id = post['id']\n",
    "internal_id = decode_post_id(first_post_id)\n",
    "after_param = encode_after_parameter(internal_id)\n",
    "params['after']= after_param\n",
    "params['distance'] = 100\n",
    "response2 = r.get(url,params=params)\n",
    "\n",
    "soup2 = BeautifulSoup(response2.text,'lxml')\n",
    "post2 = soup2.find_all('shreddit-post')\n",
    "print(len(post2))\n",
    "post2[0]==post"
   ]
  }
 ],
 "metadata": {
  "kernelspec": {
   "display_name": "Python 3",
   "language": "python",
   "name": "python3"
  },
  "language_info": {
   "codemirror_mode": {
    "name": "ipython",
    "version": 3
   },
   "file_extension": ".py",
   "mimetype": "text/x-python",
   "name": "python",
   "nbconvert_exporter": "python",
   "pygments_lexer": "ipython3",
   "version": "3.12.0"
  }
 },
 "nbformat": 4,
 "nbformat_minor": 2
}

{
 "cells": [
  {
   "cell_type": "code",
   "execution_count": 1,
   "metadata": {},
   "outputs": [
    {
     "name": "stdout",
     "output_type": "stream",
     "text": [
      "MjY5Mjg4NzYyMg%3D%3D\n",
      "3\n",
      "False\n"
     ]
    },
    {
     "ename": "IndexError",
     "evalue": "list index out of range",
     "output_type": "error",
     "traceback": [
      "\u001b[1;31m---------------------------------------------------------------------------\u001b[0m",
      "\u001b[1;31mIndexError\u001b[0m                                Traceback (most recent call last)",
      "Cell \u001b[1;32mIn[1], line 42\u001b[0m\n\u001b[0;32m     40\u001b[0m \u001b[38;5;28mprint\u001b[39m(\u001b[38;5;28mlen\u001b[39m(post2))\n\u001b[0;32m     41\u001b[0m \u001b[38;5;28mprint\u001b[39m(post2[\u001b[38;5;241m0\u001b[39m]\u001b[38;5;241m==\u001b[39mpost)\n\u001b[1;32m---> 42\u001b[0m \u001b[38;5;28mprint\u001b[39m(\u001b[43mpost2\u001b[49m\u001b[43m[\u001b[49m\u001b[38;5;241;43m24\u001b[39;49m\u001b[43m]\u001b[49m\u001b[38;5;241m==\u001b[39mpost)\n\u001b[0;32m     43\u001b[0m \u001b[38;5;28mprint\u001b[39m(first_post_id)\n\u001b[0;32m     44\u001b[0m \u001b[38;5;28mprint\u001b[39m(post2[\u001b[38;5;241m23\u001b[39m][\u001b[38;5;124m'\u001b[39m\u001b[38;5;124mid\u001b[39m\u001b[38;5;124m'\u001b[39m])\n",
      "\u001b[1;31mIndexError\u001b[0m: list index out of range"
     ]
    }
   ],
   "source": [
    "from bs4 import BeautifulSoup\n",
    "import requests as r\n",
    "import typer\n",
    "import re\n",
    "import base64\n",
    "\n",
    "def decode_post_id(post_id):\n",
    "    # Strip the 't3_' prefix and decode the base36 numerical part\n",
    "    return int(post_id.split('_')[1], 36)\n",
    "\n",
    "def encode_after_parameter(internal_id):\n",
    "    # Encode the internal ID to base64 and URL-encode the result\n",
    "    encoded_string = base64.b64encode(str(internal_id).encode('utf-8')).decode('utf-8')\n",
    "    url_encoded_string = encoded_string.replace('+', '%2B').replace('/', '%2F').replace('=', '%3D')\n",
    "    return url_encoded_string\n",
    "\n",
    "\n",
    "navigationSessionId = 'f73913c4-49e2-4c17-b5c4-49d9ed72f972'\n",
    "distance = 5\n",
    "\n",
    "url = 'https://www.reddit.com/r/sports/new/?t=all'\n",
    "\n",
    "\n",
    "params = {'navigationSessionId':navigationSessionId,'count':55}\n",
    "\n",
    "response = r.get(url,params=params)\n",
    "\n",
    "soup = BeautifulSoup(response.text,'lxml')\n",
    "\n",
    "post = soup.find('shreddit-post')\n",
    "first_post_id = post['id']\n",
    "internal_id = decode_post_id(first_post_id)\n",
    "after_param = encode_after_parameter(internal_id)\n",
    "print(after_param)\n",
    "params['after']= after_param\n",
    "response2 = r.get(url,params=params)\n",
    "\n",
    "soup2 = BeautifulSoup(response2.text,'lxml')\n",
    "post2 = soup2.find_all('shreddit-post')\n",
    "print(len(post2))\n",
    "print(post2[0]==post)\n",
    "print(post2[24]==post)\n",
    "print(first_post_id)\n",
    "print(post2[23]['id'])\n",
    "last_after = encode_after_parameter(decode_post_id(post2[23]['id']))\n",
    "params['after'] = last_after\n",
    "response3 = r.get(url,params=params)\n",
    "print(last_after)\n",
    "soup3 = BeautifulSoup(response3.text,'lxml')\n",
    "post3 = soup3.find_all('shreddit-post')\n",
    "print(post==post3[0])"
   ]
  },
  {
   "cell_type": "code",
   "execution_count": 21,
   "metadata": {},
   "outputs": [
    {
     "name": "stdout",
     "output_type": "stream",
     "text": [
      "3\n",
      "3 25 25 25\n",
      "False\n"
     ]
    }
   ],
   "source": [
    "from seleniumwire import webdriver\n",
    "from bs4 import BeautifulSoup\n",
    "from selenium.webdriver.chrome.options import Options\n",
    "import time\n",
    "import requests as r\n",
    "\n",
    "url = 'https://www.reddit.com/r/popular'\n",
    "\n",
    "response = r.get(url)\n",
    "soup = BeautifulSoup(response.text,'lxml')\n",
    "posts = soup.find_all('shreddit-post')\n",
    "chrome_options = Options()\n",
    "chrome_options.add_argument(\"--headless\") # criar um broswer no fundo\n",
    "\n",
    "driver = webdriver.Chrome(options=chrome_options)\n",
    "\n",
    "driver.get(url)\n",
    "a = driver.page_source\n",
    "soup = BeautifulSoup(a,'lxml')\n",
    "post = soup.find_all('shreddit-post')\n",
    "print(len(post))\n",
    "driver.execute_script(\"window.scrollTo(0, document.body.scrollHeight);\")\n",
    "time.sleep(3)\n",
    "\n",
    "upd = driver.page_source\n",
    "soup2 = BeautifulSoup(upd,'lxml')\n",
    "posts2 = soup2.find_all('shreddit-post')[len(posts):]\n",
    "\n",
    "driver.execute_script(\"window.scrollTo(0, document.body.scrollHeight);\")\n",
    "time.sleep(2)\n",
    "\n",
    "upd2 = driver.page_source\n",
    "soup3 = BeautifulSoup(upd2,'lxml')\n",
    "posts3 = soup3.find_all('shreddit-post')[len(posts2)+len(posts):]\n",
    "\n",
    "driver.execute_script(\"window.scrollTo(0, document.body.scrollHeight);\")\n",
    "time.sleep(2)\n",
    "\n",
    "upd3 = driver.page_source\n",
    "soup4 = BeautifulSoup(upd3,'lxml')\n",
    "posts4 = soup4.find_all('shreddit-post')[len(posts3)+len(posts2)+len(posts):]\n",
    "\n",
    "\n",
    "driver.quit()\n",
    "print(len(posts),len(posts2),len(posts3),len(posts4))\n",
    "print(posts==posts2)\n"
   ]
  }
 ],
 "metadata": {
  "kernelspec": {
   "display_name": "Python 3",
   "language": "python",
   "name": "python3"
  },
  "language_info": {
   "codemirror_mode": {
    "name": "ipython",
    "version": 3
   },
   "file_extension": ".py",
   "mimetype": "text/x-python",
   "name": "python",
   "nbconvert_exporter": "python",
   "pygments_lexer": "ipython3",
   "version": "3.12.0"
  }
 },
 "nbformat": 4,
 "nbformat_minor": 2
}

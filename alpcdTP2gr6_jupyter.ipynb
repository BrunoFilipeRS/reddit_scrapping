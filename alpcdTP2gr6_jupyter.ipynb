{
 "cells": [
  {
   "cell_type": "code",
   "execution_count": 94,
   "metadata": {},
   "outputs": [
    {
     "name": "stdout",
     "output_type": "stream",
     "text": [
      "MTA0NjEzNzI5OQ%3D%3D\n",
      "25\n",
      "False\n",
      "False\n",
      "t3_haucpf\n",
      "t3_l77fdv\n",
      "MTI4MTg5MzUzOQ%3D%3D\n",
      "False\n"
     ]
    }
   ],
   "source": [
    "from bs4 import BeautifulSoup\n",
    "import requests as r\n",
    "import typer\n",
    "import re\n",
    "import base64\n",
    "\n",
    "def decode_post_id(post_id):\n",
    "    # Strip the 't3_' prefix and decode the base36 numerical part\n",
    "    return int(post_id.split('_')[1], 36)\n",
    "\n",
    "def encode_after_parameter(internal_id):\n",
    "    # Encode the internal ID to base64 and URL-encode the result\n",
    "    encoded_string = base64.b64encode(str(internal_id).encode('utf-8')).decode('utf-8')\n",
    "    url_encoded_string = encoded_string.replace('+', '%2B').replace('/', '%2F').replace('=', '%3D')\n",
    "    return url_encoded_string\n",
    "\n",
    "\n",
    "navigationSessionId = 'f73913c4-49e2-4c17-b5c4-49d9ed72f972'\n",
    "distance = 5\n",
    "\n",
    "url = 'https://www.reddit.com/r/popular/top?t=all'\n",
    "\n",
    "\n",
    "params = {'navigationSessionId':navigationSessionId,'count':55}\n",
    "\n",
    "response = r.get(url,params=params)\n",
    "\n",
    "soup = BeautifulSoup(response.text,'lxml')\n",
    "\n",
    "post = soup.find('shreddit-post')\n",
    "first_post_id = post['id']\n",
    "internal_id = decode_post_id(first_post_id)\n",
    "after_param = encode_after_parameter(internal_id)\n",
    "print(after_param)\n",
    "params['after']= after_param\n",
    "response2 = r.get(url,params=params)\n",
    "\n",
    "soup2 = BeautifulSoup(response2.text,'lxml')\n",
    "post2 = soup2.find_all('shreddit-post')\n",
    "print(len(post2))\n",
    "print(post2[0]==post)\n",
    "print(post2[24]==post)\n",
    "print(first_post_id)\n",
    "print(post2[23]['id'])\n",
    "last_after = encode_after_parameter(decode_post_id(post2[23]['id']))\n",
    "params['after'] = last_after\n",
    "response3 = r.get(url,params=params)\n",
    "print(last_after)\n",
    "soup3 = BeautifulSoup(response3.text,'lxml')\n",
    "post3 = soup3.find_all('shreddit-post')\n",
    "print(post==post3[0])"
   ]
  },
  {
   "cell_type": "code",
   "execution_count": 93,
   "metadata": {},
   "outputs": [],
   "source": [
    "from seleniumwire import webdriver\n",
    "from bs4 import BeautifulSoup\n",
    "from selenium.webdriver.common.keys import Keys\n",
    "import time\n",
    "\n",
    "\n",
    "url = 'https://www.reddit.com/r/popular'\n",
    "\n",
    "options = {\n",
    "    'suppress_w3c_errors': True,\n",
    "    'proxy': {\n",
    "        'http': 'http://localhost:8080',  # Set up a proxy (replace with an empty string for no proxy)\n",
    "        'https': 'http://localhost:8080',\n",
    "        'no_proxy': 'localhost,127.0.0.1',  # Exclude certain addresses from the proxy\n",
    "    }\n",
    "}\n",
    "\n",
    "driver = webdriver.Chrome(seleniumwire_options=options)\n",
    "\n",
    "driver.get(url)\n",
    "\n",
    "#"
   ]
  }
 ],
 "metadata": {
  "kernelspec": {
   "display_name": "Python 3",
   "language": "python",
   "name": "python3"
  },
  "language_info": {
   "codemirror_mode": {
    "name": "ipython",
    "version": 3
   },
   "file_extension": ".py",
   "mimetype": "text/x-python",
   "name": "python",
   "nbconvert_exporter": "python",
   "pygments_lexer": "ipython3",
   "version": "3.12.0"
  }
 },
 "nbformat": 4,
 "nbformat_minor": 2
}
